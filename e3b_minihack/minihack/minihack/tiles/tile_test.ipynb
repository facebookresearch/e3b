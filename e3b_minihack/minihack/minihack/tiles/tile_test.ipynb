{
 "cells": [
  {
   "cell_type": "code",
   "execution_count": null,
   "metadata": {},
   "outputs": [],
   "source": [
    "# this is copied from tile.c and made a Python list\n",
    "from minihack.tiles import GlyphMapper\n",
    "gm = GlyphMapper()"
   ]
  },
  {
   "cell_type": "code",
   "execution_count": null,
   "metadata": {},
   "outputs": [],
   "source": [
    "import IPython.display\n",
    "import PIL.Image\n",
    "\n",
    "def display(x):\n",
    "    IPython.display.display(PIL.Image.fromarray(x))\n",
    "    \n",
    "display(gm.glyph_id_to_rgb(270)) # oracle\n",
    "display(gm.glyph_id_to_rgb(1)) # killer bee "
   ]
  },
  {
   "cell_type": "code",
   "execution_count": null,
   "metadata": {},
   "outputs": [],
   "source": [
    "# More reliable test\n",
    "# Creating custom MiniHack task with many objects\n",
    "\n",
    "from minihack import MiniHackSkill, LevelGenerator\n",
    "\n",
    "class MiniHackGUITest(MiniHackSkill):\n",
    "    \"\"\"Environment for \"eat\" task.\"\"\"\n",
    "\n",
    "    def __init__(self, *args, obs_crop_h=5, obs_crop_w=5, **kwargs):\n",
    "        lvl_gen = LevelGenerator(w=5, h=5, lit=True)\n",
    "        lvl_gen.set_start_pos((2, 2))\n",
    "\n",
    "        lvl_gen.add_object(\"apple\", \"%\", place=(0, 0))\n",
    "        lvl_gen.add_object(\"pear\", \"%\", place=(0, 1))\n",
    "        lvl_gen.add_object(\"dagger\", \")\", place=(0, 2))\n",
    "        lvl_gen.add_object(\"robe\", \"[\", place=(0, 3))\n",
    "        lvl_gen.add_object(\"boulder\", \"`\", place=(0, 4))\n",
    "\n",
    "        lvl_gen.add_terrain((1, 0), \"W\")  # water\n",
    "        lvl_gen.add_terrain((1, 1), \"L\")  # lava\n",
    "        lvl_gen.add_terrain((1, 2), \"T\")  # tree\n",
    "        lvl_gen.add_terrain((1, 3), \"{\")  # fountain\n",
    "        lvl_gen.add_terrain((1, 4), \"F\")  # iron bars\n",
    "\n",
    "        lvl_gen.add_terrain((4, 0), \"|\")\n",
    "        lvl_gen.add_terrain((4, 1), \"|\")\n",
    "        lvl_gen.add_terrain((4, 2), \"|\")\n",
    "        lvl_gen.add_terrain((4, 3), \"|\")\n",
    "        lvl_gen.add_terrain((4, 4), \"|\")\n",
    "        lvl_gen.add_door(\"open\", place=(4, 1))\n",
    "        lvl_gen.add_door(\"closed\", place=(4, 3))\n",
    "\n",
    "        lvl_gen.add_monster(\"killer bee\", place=(3, 0))\n",
    "        lvl_gen.add_monster(\"oracle\", place=(3, 1))\n",
    "        lvl_gen.add_monster(\"famine\", place=(3, 2))\n",
    "        lvl_gen.add_monster(\"giant ant\", place=(3, 3))\n",
    "        lvl_gen.add_monster(\"black dragon\", place=(3, 4))\n",
    "\n",
    "        des_file = lvl_gen.get_des()\n",
    "        print(des_file)\n",
    "\n",
    "        kwargs[\"observation_keys\"] = (\n",
    "            \"glyphs_crop\",\n",
    "            \"screen_descriptions_crop\",\n",
    "            \"pixel_crop\",\n",
    "            \"pixel\",\n",
    "        )\n",
    "\n",
    "        super().__init__(*args, des_file=des_file, **kwargs)\n"
   ]
  },
  {
   "cell_type": "code",
   "execution_count": null,
   "metadata": {},
   "outputs": [],
   "source": [
    "env = MiniHackGUITest(savedir=None,archivefile=None)\n",
    "obs = env.reset()\n",
    "\n",
    "# Glyphs\n",
    "glyphs = obs[\"glyphs_crop\"]\n",
    "\n",
    "# Textual descriptions\n",
    "screen_description = obs[\"screen_descriptions_crop\"]\n",
    "\n",
    "env.render(mode=\"human\")"
   ]
  },
  {
   "cell_type": "code",
   "execution_count": null,
   "metadata": {},
   "outputs": [],
   "source": [
    "print(glyphs)\n",
    "for i in range(glyphs.shape[0]):\n",
    "    for j in range(glyphs.shape[1]):\n",
    "        glyph = glyphs[j,i]\n",
    "        display(gm.glyph_id_to_rgb(glyph))\n",
    "        name = screen_description[j, i].tobytes().decode(\"utf-8\")\n",
    "        print(name, f\"({glyph})\", \"\\n----------------\")"
   ]
  },
  {
   "cell_type": "code",
   "execution_count": null,
   "metadata": {
    "scrolled": false
   },
   "outputs": [],
   "source": [
    "display(obs[\"pixel\"])"
   ]
  },
  {
   "cell_type": "code",
   "execution_count": null,
   "metadata": {},
   "outputs": [],
   "source": [
    "display(obs[\"pixel_crop\"])"
   ]
  },
  {
   "cell_type": "code",
   "execution_count": null,
   "metadata": {},
   "outputs": [],
   "source": [
    "from minihack.envs.hidenseek import MiniHackHideAndSeek\n",
    "from minihack.envs.mazewalk import *\n",
    "observation_keys = (\n",
    "    \"glyphs_crop\",\n",
    "    \"screen_descriptions_crop\",\n",
    "     \"pixel_crop\",\n",
    "     \"pixel\",\n",
    ")\n",
    "\n",
    "env = MiniHackMazeWalk45x19Premapped(savedir=None,archivefile=None,observation_keys=observation_keys)\n",
    "obs = env.reset()"
   ]
  },
  {
   "cell_type": "code",
   "execution_count": null,
   "metadata": {},
   "outputs": [],
   "source": [
    "display(obs[\"pixel_crop\"])"
   ]
  },
  {
   "cell_type": "code",
   "execution_count": null,
   "metadata": {},
   "outputs": [],
   "source": [
    "display(obs[\"pixel\"])"
   ]
  }
 ],
 "metadata": {
  "kernelspec": {
   "display_name": "Python 3",
   "language": "python",
   "name": "python3"
  },
  "language_info": {
   "codemirror_mode": {
    "name": "ipython",
    "version": 3
   },
   "file_extension": ".py",
   "mimetype": "text/x-python",
   "name": "python",
   "nbconvert_exporter": "python",
   "pygments_lexer": "ipython3",
   "version": "3.8.3"
  }
 },
 "nbformat": 4,
 "nbformat_minor": 4
}
